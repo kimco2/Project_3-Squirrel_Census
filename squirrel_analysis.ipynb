{
 "cells": [
  {
   "attachments": {},
   "cell_type": "markdown",
   "metadata": {},
   "source": [
    "# 2018 NYC Squirrel Census"
   ]
  },
  {
   "attachments": {},
   "cell_type": "markdown",
   "metadata": {},
   "source": [
    "## Notebook Set Up"
   ]
  },
  {
   "cell_type": "code",
   "execution_count": 2,
   "metadata": {},
   "outputs": [],
   "source": [
    "# Import dependencies\n",
    "from pymongo import MongoClient\n",
    "from pprint import pprint\n",
    "import pandas as pd"
   ]
  },
  {
   "cell_type": "code",
   "execution_count": 3,
   "metadata": {},
   "outputs": [],
   "source": [
    "# Create an instance of MongoClient\n",
    "mongo = MongoClient(port=27017)"
   ]
  },
  {
   "cell_type": "code",
   "execution_count": 4,
   "metadata": {},
   "outputs": [],
   "source": [
    "# assign the squirrels_db database to a variable name\n",
    "db = mongo['squirrels_db']"
   ]
  },
  {
   "cell_type": "code",
   "execution_count": 5,
   "metadata": {},
   "outputs": [
    {
     "name": "stdout",
     "output_type": "stream",
     "text": [
      "['squirrels']\n"
     ]
    }
   ],
   "source": [
    "# review the collections in our database\n",
    "print(db.list_collection_names())"
   ]
  },
  {
   "cell_type": "code",
   "execution_count": 6,
   "metadata": {},
   "outputs": [],
   "source": [
    "# assign the collection to a variable\n",
    "squirrels = db['squirrels']"
   ]
  },
  {
   "attachments": {},
   "cell_type": "markdown",
   "metadata": {},
   "source": [
    "# Part 3: Exploratory Analysis"
   ]
  },
  {
   "cell_type": "code",
   "execution_count": 6,
   "metadata": {},
   "outputs": [
    {
     "name": "stdout",
     "output_type": "stream",
     "text": [
      "Number of documents:  3023\n",
      "Number of unique squirrels in data set is:  3018\n"
     ]
    }
   ],
   "source": [
    "# Total number of documents\n",
    "print(\"Number of documents: \", squirrels.count_documents({}))\n",
    "\n",
    "# Total number of unique squirrels\n",
    "unqiue_squirrels = squirrels.distinct(\"Unique_Squirrel_ID\")\n",
    "print(\"Number of unique squirrels in data set is: \",len(unqiue_squirrels))"
   ]
  },
  {
   "attachments": {},
   "cell_type": "markdown",
   "metadata": {},
   "source": [
    "<h5> When were the squirrels spotted?"
   ]
  },
  {
   "cell_type": "code",
   "execution_count": 7,
   "metadata": {},
   "outputs": [
    {
     "name": "stdout",
     "output_type": "stream",
     "text": [
      "[{'_id': 'AM', 'count': 1347}, {'_id': 'PM', 'count': 1676}]\n"
     ]
    }
   ],
   "source": [
    "# When were the squirrels spotted?\n",
    "query = [{'$group': {'_id': \"$Shift\", 'count': { '$sum': 1 }}}]\n",
    "results = list(squirrels.aggregate(query))\n",
    "print(results)"
   ]
  },
  {
   "cell_type": "code",
   "execution_count": null,
   "metadata": {},
   "outputs": [],
   "source": [
    "# Look at specific dates the data was collected"
   ]
  },
  {
   "attachments": {},
   "cell_type": "markdown",
   "metadata": {},
   "source": [
    "<h5> Where they were spotted (on the ground or up a tree)"
   ]
  },
  {
   "cell_type": "code",
   "execution_count": 8,
   "metadata": {},
   "outputs": [
    {
     "name": "stdout",
     "output_type": "stream",
     "text": [
      "[{'_id': 'Above Ground', 'count': 843},\n",
      " {'_id': 'Ground Plane', 'count': 2116},\n",
      " {'_id': 'Not_noted', 'count': 64}]\n"
     ]
    },
    {
     "data": {
      "text/html": [
       "<div>\n",
       "<style scoped>\n",
       "    .dataframe tbody tr th:only-of-type {\n",
       "        vertical-align: middle;\n",
       "    }\n",
       "\n",
       "    .dataframe tbody tr th {\n",
       "        vertical-align: top;\n",
       "    }\n",
       "\n",
       "    .dataframe thead th {\n",
       "        text-align: right;\n",
       "    }\n",
       "</style>\n",
       "<table border=\"1\" class=\"dataframe\">\n",
       "  <thead>\n",
       "    <tr style=\"text-align: right;\">\n",
       "      <th></th>\n",
       "      <th>_id</th>\n",
       "      <th>count</th>\n",
       "    </tr>\n",
       "  </thead>\n",
       "  <tbody>\n",
       "    <tr>\n",
       "      <th>0</th>\n",
       "      <td>Above Ground</td>\n",
       "      <td>843</td>\n",
       "    </tr>\n",
       "    <tr>\n",
       "      <th>1</th>\n",
       "      <td>Ground Plane</td>\n",
       "      <td>2116</td>\n",
       "    </tr>\n",
       "    <tr>\n",
       "      <th>2</th>\n",
       "      <td>Not_noted</td>\n",
       "      <td>64</td>\n",
       "    </tr>\n",
       "  </tbody>\n",
       "</table>\n",
       "</div>"
      ],
      "text/plain": [
       "            _id  count\n",
       "0  Above Ground    843\n",
       "1  Ground Plane   2116\n",
       "2     Not_noted     64"
      ]
     },
     "execution_count": 8,
     "metadata": {},
     "output_type": "execute_result"
    }
   ],
   "source": [
    "# Where were the squirrels?\n",
    "query = [{'$group': {'_id': \"$Location\", 'count': { '$sum': 1 }}}]\n",
    "results = list(squirrels.aggregate(query))\n",
    "pprint(results)\n",
    "\n",
    "# Save results to a dataframe\n",
    "location_df = pd.DataFrame(results)\n",
    "location_df"
   ]
  },
  {
   "cell_type": "code",
   "execution_count": 9,
   "metadata": {},
   "outputs": [
    {
     "data": {
      "text/html": [
       "<div>\n",
       "<style scoped>\n",
       "    .dataframe tbody tr th:only-of-type {\n",
       "        vertical-align: middle;\n",
       "    }\n",
       "\n",
       "    .dataframe tbody tr th {\n",
       "        vertical-align: top;\n",
       "    }\n",
       "\n",
       "    .dataframe thead th {\n",
       "        text-align: right;\n",
       "    }\n",
       "</style>\n",
       "<table border=\"1\" class=\"dataframe\">\n",
       "  <thead>\n",
       "    <tr style=\"text-align: right;\">\n",
       "      <th></th>\n",
       "      <th>_id</th>\n",
       "      <th>Unique_Squirrel_ID</th>\n",
       "      <th>Location</th>\n",
       "      <th>Above_Ground_Sighter_Measurement</th>\n",
       "    </tr>\n",
       "  </thead>\n",
       "  <tbody>\n",
       "    <tr>\n",
       "      <th>0</th>\n",
       "      <td>642cca8711739165e7ee2e56</td>\n",
       "      <td>15C-PM-1017-02</td>\n",
       "      <td>Above Ground</td>\n",
       "      <td>0</td>\n",
       "    </tr>\n",
       "    <tr>\n",
       "      <th>1</th>\n",
       "      <td>642cca8711739165e7ee2c69</td>\n",
       "      <td>12A-PM-1013-04</td>\n",
       "      <td>Above Ground</td>\n",
       "      <td>1</td>\n",
       "    </tr>\n",
       "    <tr>\n",
       "      <th>2</th>\n",
       "      <td>642cca8711739165e7ee2d4f</td>\n",
       "      <td>38E-AM-1010-07</td>\n",
       "      <td>Above Ground</td>\n",
       "      <td>1</td>\n",
       "    </tr>\n",
       "    <tr>\n",
       "      <th>3</th>\n",
       "      <td>642cca8711739165e7ee2d54</td>\n",
       "      <td>21H-AM-1017-02</td>\n",
       "      <td>Above Ground</td>\n",
       "      <td>1</td>\n",
       "    </tr>\n",
       "    <tr>\n",
       "      <th>4</th>\n",
       "      <td>642cca8711739165e7ee2d82</td>\n",
       "      <td>18C-PM-1018-03</td>\n",
       "      <td>Above Ground</td>\n",
       "      <td>1</td>\n",
       "    </tr>\n",
       "    <tr>\n",
       "      <th>...</th>\n",
       "      <td>...</td>\n",
       "      <td>...</td>\n",
       "      <td>...</td>\n",
       "      <td>...</td>\n",
       "    </tr>\n",
       "    <tr>\n",
       "      <th>838</th>\n",
       "      <td>642cca8711739165e7ee3576</td>\n",
       "      <td>42H-PM-1014-02</td>\n",
       "      <td>Above Ground</td>\n",
       "      <td></td>\n",
       "    </tr>\n",
       "    <tr>\n",
       "      <th>839</th>\n",
       "      <td>642cca8711739165e7ee35af</td>\n",
       "      <td>31H-PM-1008-04</td>\n",
       "      <td>Above Ground</td>\n",
       "      <td></td>\n",
       "    </tr>\n",
       "    <tr>\n",
       "      <th>840</th>\n",
       "      <td>642cca8711739165e7ee35b2</td>\n",
       "      <td>2A-AM-1010-09</td>\n",
       "      <td>Above Ground</td>\n",
       "      <td></td>\n",
       "    </tr>\n",
       "    <tr>\n",
       "      <th>841</th>\n",
       "      <td>642cca8711739165e7ee35ba</td>\n",
       "      <td>5F-AM-1007-02</td>\n",
       "      <td>Above Ground</td>\n",
       "      <td></td>\n",
       "    </tr>\n",
       "    <tr>\n",
       "      <th>842</th>\n",
       "      <td>642cca8711739165e7ee3693</td>\n",
       "      <td>7B-AM-1008-05</td>\n",
       "      <td>Above Ground</td>\n",
       "      <td></td>\n",
       "    </tr>\n",
       "  </tbody>\n",
       "</table>\n",
       "<p>843 rows × 4 columns</p>\n",
       "</div>"
      ],
      "text/plain": [
       "                          _id Unique_Squirrel_ID      Location  \\\n",
       "0    642cca8711739165e7ee2e56     15C-PM-1017-02  Above Ground   \n",
       "1    642cca8711739165e7ee2c69     12A-PM-1013-04  Above Ground   \n",
       "2    642cca8711739165e7ee2d4f     38E-AM-1010-07  Above Ground   \n",
       "3    642cca8711739165e7ee2d54     21H-AM-1017-02  Above Ground   \n",
       "4    642cca8711739165e7ee2d82     18C-PM-1018-03  Above Ground   \n",
       "..                        ...                ...           ...   \n",
       "838  642cca8711739165e7ee3576     42H-PM-1014-02  Above Ground   \n",
       "839  642cca8711739165e7ee35af     31H-PM-1008-04  Above Ground   \n",
       "840  642cca8711739165e7ee35b2      2A-AM-1010-09  Above Ground   \n",
       "841  642cca8711739165e7ee35ba      5F-AM-1007-02  Above Ground   \n",
       "842  642cca8711739165e7ee3693      7B-AM-1008-05  Above Ground   \n",
       "\n",
       "    Above_Ground_Sighter_Measurement  \n",
       "0                                  0  \n",
       "1                                  1  \n",
       "2                                  1  \n",
       "3                                  1  \n",
       "4                                  1  \n",
       "..                               ...  \n",
       "838                                   \n",
       "839                                   \n",
       "840                                   \n",
       "841                                   \n",
       "842                                   \n",
       "\n",
       "[843 rows x 4 columns]"
      ]
     },
     "execution_count": 9,
     "metadata": {},
     "output_type": "execute_result"
    }
   ],
   "source": [
    "# Where were they spotted?\n",
    "query = {'Location' : 'Above Ground'}\n",
    "fields = {'Unique_Squirrel_ID' : 1, 'Location' : 1, 'Above_Ground_Sighter_Measurement' : 1}\n",
    "sort = [('Above_Ground_Sighter_Measurement', 1)]\n",
    "result = list(squirrels.find(query, fields).sort(sort))\n",
    "\n",
    "# # Save results to a dataframe\n",
    "height_df = pd.DataFrame(result)\n",
    "height_df"
   ]
  },
  {
   "cell_type": "code",
   "execution_count": 10,
   "metadata": {},
   "outputs": [
    {
     "name": "stdout",
     "output_type": "stream",
     "text": [
      "<class 'pandas.core.frame.DataFrame'>\n",
      "RangeIndex: 843 entries, 0 to 842\n",
      "Data columns (total 4 columns):\n",
      " #   Column                            Non-Null Count  Dtype \n",
      "---  ------                            --------------  ----- \n",
      " 0   _id                               843 non-null    object\n",
      " 1   Unique_Squirrel_ID                843 non-null    object\n",
      " 2   Location                          843 non-null    object\n",
      " 3   Above_Ground_Sighter_Measurement  843 non-null    object\n",
      "dtypes: object(4)\n",
      "memory usage: 26.5+ KB\n"
     ]
    }
   ],
   "source": [
    "height_df.info()"
   ]
  },
  {
   "cell_type": "code",
   "execution_count": null,
   "metadata": {},
   "outputs": [],
   "source": [
    "# filter by those with a above ground sighter measurement\n",
    "# do a chart with results - possibly histogram\n",
    "# change ave ground sighter measurement to number"
   ]
  },
  {
   "cell_type": "code",
   "execution_count": 56,
   "metadata": {},
   "outputs": [
    {
     "name": "stdout",
     "output_type": "stream",
     "text": [
      "<class 'pandas.core.frame.DataFrame'>\n",
      "RangeIndex: 843 entries, 0 to 842\n",
      "Data columns (total 4 columns):\n",
      " #   Column                            Non-Null Count  Dtype \n",
      "---  ------                            --------------  ----- \n",
      " 0   _id                               843 non-null    object\n",
      " 1   Unique Squirrel ID                843 non-null    object\n",
      " 2   Location                          843 non-null    object\n",
      " 3   Above Ground Sighter Measurement  843 non-null    object\n",
      "dtypes: object(4)\n",
      "memory usage: 26.5+ KB\n"
     ]
    }
   ],
   "source": []
  },
  {
   "attachments": {},
   "cell_type": "markdown",
   "metadata": {},
   "source": [
    "<h5> Average height for those above ground"
   ]
  },
  {
   "cell_type": "code",
   "execution_count": null,
   "metadata": {},
   "outputs": [],
   "source": []
  },
  {
   "cell_type": "code",
   "execution_count": 11,
   "metadata": {},
   "outputs": [],
   "source": [
    "# Above ground average height\n",
    "match_query = {'$match': {'Location': 'Above_Ground'}}\n",
    "group_query = {'$group': {'_id': \"$Location\", 'count': { '$sum': 1 }}}\n",
    "sort_values = {'$sort': { 'count': -1 }}\n",
    "\n",
    "pipeline = [match_query, group_query, sort_values]"
   ]
  },
  {
   "cell_type": "code",
   "execution_count": 12,
   "metadata": {},
   "outputs": [
    {
     "name": "stdout",
     "output_type": "stream",
     "text": [
      "[]\n"
     ]
    }
   ],
   "source": [
    "# Run the pipeline through the aggregate method and save the results to a variable\n",
    "results = list(census_2018.aggregate(pipeline))\n",
    "pprint(results)"
   ]
  },
  {
   "cell_type": "code",
   "execution_count": null,
   "metadata": {},
   "outputs": [],
   "source": []
  },
  {
   "attachments": {},
   "cell_type": "markdown",
   "metadata": {},
   "source": [
    "<h5> What was the primary colour of the squirrels spotted?"
   ]
  },
  {
   "cell_type": "code",
   "execution_count": 13,
   "metadata": {},
   "outputs": [
    {
     "name": "stdout",
     "output_type": "stream",
     "text": [
      "[{'_id': 'Cinnamon', 'count': 392},\n",
      " {'_id': 'Gray', 'count': 2473},\n",
      " {'_id': 'Not_noted', 'count': 55},\n",
      " {'_id': 'Black', 'count': 103}]\n"
     ]
    },
    {
     "data": {
      "text/html": [
       "<div>\n",
       "<style scoped>\n",
       "    .dataframe tbody tr th:only-of-type {\n",
       "        vertical-align: middle;\n",
       "    }\n",
       "\n",
       "    .dataframe tbody tr th {\n",
       "        vertical-align: top;\n",
       "    }\n",
       "\n",
       "    .dataframe thead th {\n",
       "        text-align: right;\n",
       "    }\n",
       "</style>\n",
       "<table border=\"1\" class=\"dataframe\">\n",
       "  <thead>\n",
       "    <tr style=\"text-align: right;\">\n",
       "      <th></th>\n",
       "      <th>_id</th>\n",
       "      <th>count</th>\n",
       "    </tr>\n",
       "  </thead>\n",
       "  <tbody>\n",
       "    <tr>\n",
       "      <th>0</th>\n",
       "      <td>Cinnamon</td>\n",
       "      <td>392</td>\n",
       "    </tr>\n",
       "    <tr>\n",
       "      <th>1</th>\n",
       "      <td>Gray</td>\n",
       "      <td>2473</td>\n",
       "    </tr>\n",
       "    <tr>\n",
       "      <th>2</th>\n",
       "      <td>Not_noted</td>\n",
       "      <td>55</td>\n",
       "    </tr>\n",
       "    <tr>\n",
       "      <th>3</th>\n",
       "      <td>Black</td>\n",
       "      <td>103</td>\n",
       "    </tr>\n",
       "  </tbody>\n",
       "</table>\n",
       "</div>"
      ],
      "text/plain": [
       "         _id  count\n",
       "0   Cinnamon    392\n",
       "1       Gray   2473\n",
       "2  Not_noted     55\n",
       "3      Black    103"
      ]
     },
     "execution_count": 13,
     "metadata": {},
     "output_type": "execute_result"
    }
   ],
   "source": [
    "# What colour were the squirrels\n",
    "query = [{'$group': {'_id': \"$Primary_Fur_Color\", 'count': { '$sum': 1 }}}]\n",
    "results = list(squirrels.aggregate(query))\n",
    "pprint(results)\n",
    "\n",
    "# Save results to a dataframe\n",
    "color_df = pd.DataFrame(results)\n",
    "color_df\n",
    "\n",
    "## sort the results"
   ]
  },
  {
   "attachments": {},
   "cell_type": "markdown",
   "metadata": {},
   "source": [
    "<h5> Age of squirrel"
   ]
  },
  {
   "cell_type": "code",
   "execution_count": 14,
   "metadata": {},
   "outputs": [
    {
     "name": "stdout",
     "output_type": "stream",
     "text": [
      "[{'_id': 'Adult', 'count': 2568},\n",
      " {'_id': 'Juvenile', 'count': 330},\n",
      " {'_id': 'Not_noted', 'count': 125}]\n"
     ]
    },
    {
     "data": {
      "text/html": [
       "<div>\n",
       "<style scoped>\n",
       "    .dataframe tbody tr th:only-of-type {\n",
       "        vertical-align: middle;\n",
       "    }\n",
       "\n",
       "    .dataframe tbody tr th {\n",
       "        vertical-align: top;\n",
       "    }\n",
       "\n",
       "    .dataframe thead th {\n",
       "        text-align: right;\n",
       "    }\n",
       "</style>\n",
       "<table border=\"1\" class=\"dataframe\">\n",
       "  <thead>\n",
       "    <tr style=\"text-align: right;\">\n",
       "      <th></th>\n",
       "      <th>_id</th>\n",
       "      <th>count</th>\n",
       "    </tr>\n",
       "  </thead>\n",
       "  <tbody>\n",
       "    <tr>\n",
       "      <th>0</th>\n",
       "      <td>Adult</td>\n",
       "      <td>2568</td>\n",
       "    </tr>\n",
       "    <tr>\n",
       "      <th>1</th>\n",
       "      <td>Juvenile</td>\n",
       "      <td>330</td>\n",
       "    </tr>\n",
       "    <tr>\n",
       "      <th>2</th>\n",
       "      <td>Not_noted</td>\n",
       "      <td>125</td>\n",
       "    </tr>\n",
       "  </tbody>\n",
       "</table>\n",
       "</div>"
      ],
      "text/plain": [
       "         _id  count\n",
       "0      Adult   2568\n",
       "1   Juvenile    330\n",
       "2  Not_noted    125"
      ]
     },
     "execution_count": 14,
     "metadata": {},
     "output_type": "execute_result"
    }
   ],
   "source": [
    "# What age were the squirrels\n",
    "query = [{'$group': {'_id': \"$Age\", 'count': { '$sum': 1 }}}]\n",
    "results = list(squirrels.aggregate(query))\n",
    "pprint(results)\n",
    "\n",
    "# Save results to a dataframe\n",
    "age_df = pd.DataFrame(results)\n",
    "age_df\n",
    "\n",
    "## sort the results"
   ]
  },
  {
   "attachments": {},
   "cell_type": "markdown",
   "metadata": {},
   "source": [
    "<h5> What the squirrel was doing"
   ]
  },
  {
   "cell_type": "code",
   "execution_count": 14,
   "metadata": {},
   "outputs": [
    {
     "name": "stdout",
     "output_type": "stream",
     "text": [
      "[{'_id': 'FALSE', 'count': 2293}, {'_id': 'TRUE', 'count': 730}]\n",
      "[{'_id': 'FALSE', 'count': 2293}, {'_id': 'TRUE', 'count': 730}]\n"
     ]
    }
   ],
   "source": [
    "# What the squirrels were doing\n",
    "query = [{'$group': {'_id': \"$Running\", 'count': { '$sum': 1 }}}]\n",
    "eating = list(squirrels.aggregate(query))\n",
    "pprint(eating)\n",
    "\n",
    "query = [{'$group': {'_id': \"$Running\", 'count': { '$sum': 1 }}}]\n",
    "running = list(squirrels.aggregate(query))\n",
    "pprint(running)\n",
    "\n",
    "\n"
   ]
  },
  {
   "cell_type": "code",
   "execution_count": 12,
   "metadata": {},
   "outputs": [
    {
     "name": "stdout",
     "output_type": "stream",
     "text": [
      "[{'_id': 19, 'count': 1},\n",
      " {'_id': 1, 'count': 614},\n",
      " {'_id': 13, 'count': 23},\n",
      " {'_id': 21, 'count': 1},\n",
      " {'_id': 11, 'count': 42},\n",
      " {'_id': 3, 'count': 441},\n",
      " {'_id': 15, 'count': 10},\n",
      " {'_id': 17, 'count': 4},\n",
      " {'_id': 10, 'count': 54},\n",
      " {'_id': 22, 'count': 1},\n",
      " {'_id': 7, 'count': 161},\n",
      " {'_id': 18, 'count': 1},\n",
      " {'_id': 8, 'count': 119},\n",
      " {'_id': 14, 'count': 16},\n",
      " {'_id': 6, 'count': 223},\n",
      " {'_id': 5, 'count': 287},\n",
      " {'_id': 9, 'count': 85},\n",
      " {'_id': 4, 'count': 364},\n",
      " {'_id': 2, 'count': 533},\n",
      " {'_id': 23, 'count': 1},\n",
      " {'_id': 16, 'count': 8},\n",
      " {'_id': 20, 'count': 1},\n",
      " {'_id': 12, 'count': 33}]\n"
     ]
    }
   ],
   "source": [
    "query = [{'$group': {'_id': \"$Hectare_Squirrel_Number\", 'count': { '$sum': 1 }}}]\n",
    "hectare = list(squirrels.aggregate(query))\n",
    "pprint(hectare)"
   ]
  },
  {
   "cell_type": "code",
   "execution_count": 11,
   "metadata": {},
   "outputs": [
    {
     "ename": "NameError",
     "evalue": "name 'hectare' is not defined",
     "output_type": "error",
     "traceback": [
      "\u001b[1;31m---------------------------------------------------------------------------\u001b[0m",
      "\u001b[1;31mNameError\u001b[0m                                 Traceback (most recent call last)",
      "\u001b[1;32m~\\AppData\\Local\\Temp\\ipykernel_29700\\3913115356.py\u001b[0m in \u001b[0;36m<module>\u001b[1;34m\u001b[0m\n\u001b[1;32m----> 1\u001b[1;33m \u001b[0mhectare\u001b[0m\u001b[1;33m.\u001b[0m\u001b[0mlen\u001b[0m\u001b[1;33m(\u001b[0m\u001b[1;33m)\u001b[0m\u001b[1;33m\u001b[0m\u001b[1;33m\u001b[0m\u001b[0m\n\u001b[0m",
      "\u001b[1;31mNameError\u001b[0m: name 'hectare' is not defined"
     ]
    }
   ],
   "source": [
    "hectare.len()"
   ]
  }
 ],
 "metadata": {
  "kernelspec": {
   "display_name": "PythonData",
   "language": "python",
   "name": "python3"
  },
  "language_info": {
   "codemirror_mode": {
    "name": "ipython",
    "version": 3
   },
   "file_extension": ".py",
   "mimetype": "text/x-python",
   "name": "python",
   "nbconvert_exporter": "python",
   "pygments_lexer": "ipython3",
   "version": "3.7.7"
  },
  "orig_nbformat": 4,
  "vscode": {
   "interpreter": {
    "hash": "36caff6c9c02ddf9c80bf3a47b52dcc003663f4f02b1c64a29eab689b8ef0ba0"
   }
  }
 },
 "nbformat": 4,
 "nbformat_minor": 2
}
