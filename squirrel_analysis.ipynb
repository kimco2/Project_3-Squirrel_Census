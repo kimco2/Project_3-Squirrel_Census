{
 "cells": [
  {
   "attachments": {},
   "cell_type": "markdown",
   "metadata": {},
   "source": [
    "# 2018 NYC Squirrel Census"
   ]
  },
  {
   "attachments": {},
   "cell_type": "markdown",
   "metadata": {},
   "source": [
    "## Notebook Set Up"
   ]
  },
  {
   "cell_type": "code",
   "execution_count": 2,
   "metadata": {},
   "outputs": [],
   "source": [
    "# Import dependencies\n",
    "from pymongo import MongoClient\n",
    "from pprint import pprint\n",
    "import pandas as pd"
   ]
  },
  {
   "cell_type": "code",
   "execution_count": 3,
   "metadata": {},
   "outputs": [],
   "source": [
    "# Create an instance of MongoClient\n",
    "mongo = MongoClient(port=27017)"
   ]
  },
  {
   "cell_type": "code",
   "execution_count": 4,
   "metadata": {},
   "outputs": [],
   "source": [
    "# assign the squirrels_db database to a variable name\n",
    "db = mongo['squirrels_db']"
   ]
  },
  {
   "cell_type": "code",
   "execution_count": 5,
   "metadata": {},
   "outputs": [
    {
     "name": "stdout",
     "output_type": "stream",
     "text": [
      "['squirrels']\n"
     ]
    }
   ],
   "source": [
    "# review the collections in our database\n",
    "print(db.list_collection_names())"
   ]
  },
  {
   "cell_type": "code",
   "execution_count": 6,
   "metadata": {},
   "outputs": [],
   "source": [
    "# assign the collection to a variable\n",
    "squirrels = db['squirrels']"
   ]
  },
  {
   "attachments": {},
   "cell_type": "markdown",
   "metadata": {},
   "source": [
    "# Part 3: Exploratory Analysis"
   ]
  },
  {
   "cell_type": "code",
   "execution_count": 6,
   "metadata": {},
   "outputs": [
    {
     "name": "stdout",
     "output_type": "stream",
     "text": [
      "Number of documents:  3023\n",
      "Number of unique squirrels in data set is:  3018\n"
     ]
    }
   ],
   "source": [
    "# Total number of documents\n",
    "print(\"Number of documents: \", squirrels.count_documents({}))\n",
    "\n",
    "# Total number of unique squirrels\n",
    "unqiue_squirrels = squirrels.distinct(\"Unique_Squirrel_ID\")\n",
    "print(\"Number of unique squirrels in data set is: \",len(unqiue_squirrels))"
   ]
  },
  {
   "attachments": {},
   "cell_type": "markdown",
   "metadata": {},
   "source": [
    "<h5> When the squirrels were observed"
   ]
  },
  {
   "cell_type": "code",
   "execution_count": 7,
   "metadata": {},
   "outputs": [
    {
     "name": "stdout",
     "output_type": "stream",
     "text": [
      "[{'_id': 'PM', 'count': 1676}, {'_id': 'AM', 'count': 1347}]\n"
     ]
    },
    {
     "data": {
      "text/html": [
       "<div>\n",
       "<style scoped>\n",
       "    .dataframe tbody tr th:only-of-type {\n",
       "        vertical-align: middle;\n",
       "    }\n",
       "\n",
       "    .dataframe tbody tr th {\n",
       "        vertical-align: top;\n",
       "    }\n",
       "\n",
       "    .dataframe thead th {\n",
       "        text-align: right;\n",
       "    }\n",
       "</style>\n",
       "<table border=\"1\" class=\"dataframe\">\n",
       "  <thead>\n",
       "    <tr style=\"text-align: right;\">\n",
       "      <th></th>\n",
       "      <th>_id</th>\n",
       "      <th>count</th>\n",
       "    </tr>\n",
       "  </thead>\n",
       "  <tbody>\n",
       "    <tr>\n",
       "      <th>0</th>\n",
       "      <td>PM</td>\n",
       "      <td>1676</td>\n",
       "    </tr>\n",
       "    <tr>\n",
       "      <th>1</th>\n",
       "      <td>AM</td>\n",
       "      <td>1347</td>\n",
       "    </tr>\n",
       "  </tbody>\n",
       "</table>\n",
       "</div>"
      ],
      "text/plain": [
       "  _id  count\n",
       "0  PM   1676\n",
       "1  AM   1347"
      ]
     },
     "execution_count": 7,
     "metadata": {},
     "output_type": "execute_result"
    }
   ],
   "source": [
    "# Time of day\n",
    "query = [{'$group': {'_id': \"$Shift\", 'count': { '$sum': 1 }}}]\n",
    "results = list(squirrels.aggregate(query))\n",
    "print(results)\n",
    "\n",
    "# Save results to a dataframe\n",
    "time_df = pd.DataFrame(results)\n",
    "time_df"
   ]
  },
  {
   "cell_type": "code",
   "execution_count": 39,
   "metadata": {},
   "outputs": [
    {
     "name": "stdout",
     "output_type": "stream",
     "text": [
      "[{'_id': 10062018, 'count': 337},\n",
      " {'_id': 10072018, 'count': 405},\n",
      " {'_id': 10082018, 'count': 285},\n",
      " {'_id': 10102018, 'count': 335},\n",
      " {'_id': 10122018, 'count': 218},\n",
      " {'_id': 10132018, 'count': 434},\n",
      " {'_id': 10142018, 'count': 368},\n",
      " {'_id': 10172018, 'count': 216},\n",
      " {'_id': 10182018, 'count': 200},\n",
      " {'_id': 10192018, 'count': 158},\n",
      " {'_id': 10202018, 'count': 67}]\n"
     ]
    }
   ],
   "source": [
    "# Days squirrel observations occured\n",
    "group_query = {'$group': {'_id': \"$Date\", 'count': { '$sum': 1 }}}\n",
    "sort_values = {'$sort' : {'_id': 1}}\n",
    "pipeline = [group_query, sort_values]\n",
    "results = list(squirrels.aggregate(pipeline))\n",
    "pprint(results)"
   ]
  },
  {
   "cell_type": "code",
   "execution_count": null,
   "metadata": {},
   "outputs": [],
   "source": [
    "# save to dataframe change date format and add chart"
   ]
  },
  {
   "attachments": {},
   "cell_type": "markdown",
   "metadata": {},
   "source": [
    "<h5> Primary colour of the squirrels"
   ]
  },
  {
   "cell_type": "code",
   "execution_count": 33,
   "metadata": {},
   "outputs": [
    {
     "data": {
      "text/html": [
       "<div>\n",
       "<style scoped>\n",
       "    .dataframe tbody tr th:only-of-type {\n",
       "        vertical-align: middle;\n",
       "    }\n",
       "\n",
       "    .dataframe tbody tr th {\n",
       "        vertical-align: top;\n",
       "    }\n",
       "\n",
       "    .dataframe thead th {\n",
       "        text-align: right;\n",
       "    }\n",
       "</style>\n",
       "<table border=\"1\" class=\"dataframe\">\n",
       "  <thead>\n",
       "    <tr style=\"text-align: right;\">\n",
       "      <th></th>\n",
       "      <th>_id</th>\n",
       "      <th>count</th>\n",
       "    </tr>\n",
       "  </thead>\n",
       "  <tbody>\n",
       "    <tr>\n",
       "      <th>0</th>\n",
       "      <td>Gray</td>\n",
       "      <td>2473</td>\n",
       "    </tr>\n",
       "    <tr>\n",
       "      <th>1</th>\n",
       "      <td>Cinnamon</td>\n",
       "      <td>392</td>\n",
       "    </tr>\n",
       "    <tr>\n",
       "      <th>2</th>\n",
       "      <td>Black</td>\n",
       "      <td>103</td>\n",
       "    </tr>\n",
       "    <tr>\n",
       "      <th>3</th>\n",
       "      <td>Not_noted</td>\n",
       "      <td>55</td>\n",
       "    </tr>\n",
       "  </tbody>\n",
       "</table>\n",
       "</div>"
      ],
      "text/plain": [
       "         _id  count\n",
       "0       Gray   2473\n",
       "1   Cinnamon    392\n",
       "2      Black    103\n",
       "3  Not_noted     55"
      ]
     },
     "execution_count": 33,
     "metadata": {},
     "output_type": "execute_result"
    }
   ],
   "source": [
    "# Group squirrels by colour and count, then sort in descending order\n",
    "group_query = {'$group': {'_id': \"$Primary_Fur_Color\", 'count': { '$sum': 1 }}}\n",
    "sort_values = {'$sort' : {'count' : -1}}\n",
    "pipeline = [group_query, sort_values]\n",
    "results = list(squirrels.aggregate(pipeline))\n",
    "\n",
    "# Save results to a dataframe\n",
    "color_df = pd.DataFrame(results)\n",
    "color_df\n"
   ]
  },
  {
   "attachments": {},
   "cell_type": "markdown",
   "metadata": {},
   "source": [
    "<h5> Age of the squirrels"
   ]
  },
  {
   "cell_type": "code",
   "execution_count": 34,
   "metadata": {},
   "outputs": [
    {
     "data": {
      "text/html": [
       "<div>\n",
       "<style scoped>\n",
       "    .dataframe tbody tr th:only-of-type {\n",
       "        vertical-align: middle;\n",
       "    }\n",
       "\n",
       "    .dataframe tbody tr th {\n",
       "        vertical-align: top;\n",
       "    }\n",
       "\n",
       "    .dataframe thead th {\n",
       "        text-align: right;\n",
       "    }\n",
       "</style>\n",
       "<table border=\"1\" class=\"dataframe\">\n",
       "  <thead>\n",
       "    <tr style=\"text-align: right;\">\n",
       "      <th></th>\n",
       "      <th>_id</th>\n",
       "      <th>count</th>\n",
       "    </tr>\n",
       "  </thead>\n",
       "  <tbody>\n",
       "    <tr>\n",
       "      <th>0</th>\n",
       "      <td>Adult</td>\n",
       "      <td>2568</td>\n",
       "    </tr>\n",
       "    <tr>\n",
       "      <th>1</th>\n",
       "      <td>Juvenile</td>\n",
       "      <td>330</td>\n",
       "    </tr>\n",
       "    <tr>\n",
       "      <th>2</th>\n",
       "      <td>Not_noted</td>\n",
       "      <td>125</td>\n",
       "    </tr>\n",
       "  </tbody>\n",
       "</table>\n",
       "</div>"
      ],
      "text/plain": [
       "         _id  count\n",
       "0      Adult   2568\n",
       "1   Juvenile    330\n",
       "2  Not_noted    125"
      ]
     },
     "execution_count": 34,
     "metadata": {},
     "output_type": "execute_result"
    }
   ],
   "source": [
    "# Group squirrels by age and count, then sort in descending order\n",
    "group_query = {'$group': {'_id': \"$Age\", 'count': { '$sum': 1 }}}\n",
    "sort_values = {'$sort' : {'count' : -1}}\n",
    "pipeline = [group_query, sort_values]\n",
    "results = list(squirrels.aggregate(pipeline))\n",
    "\n",
    "# Save results to a dataframe\n",
    "age_df = pd.DataFrame(results)\n",
    "age_df"
   ]
  },
  {
   "attachments": {},
   "cell_type": "markdown",
   "metadata": {},
   "source": [
    "<h5> Where the squirrels were spotted (on the ground or up a tree)"
   ]
  },
  {
   "cell_type": "code",
   "execution_count": 35,
   "metadata": {},
   "outputs": [
    {
     "data": {
      "text/html": [
       "<div>\n",
       "<style scoped>\n",
       "    .dataframe tbody tr th:only-of-type {\n",
       "        vertical-align: middle;\n",
       "    }\n",
       "\n",
       "    .dataframe tbody tr th {\n",
       "        vertical-align: top;\n",
       "    }\n",
       "\n",
       "    .dataframe thead th {\n",
       "        text-align: right;\n",
       "    }\n",
       "</style>\n",
       "<table border=\"1\" class=\"dataframe\">\n",
       "  <thead>\n",
       "    <tr style=\"text-align: right;\">\n",
       "      <th></th>\n",
       "      <th>_id</th>\n",
       "      <th>count</th>\n",
       "    </tr>\n",
       "  </thead>\n",
       "  <tbody>\n",
       "    <tr>\n",
       "      <th>0</th>\n",
       "      <td>Ground Plane</td>\n",
       "      <td>2116</td>\n",
       "    </tr>\n",
       "    <tr>\n",
       "      <th>1</th>\n",
       "      <td>Above Ground</td>\n",
       "      <td>843</td>\n",
       "    </tr>\n",
       "    <tr>\n",
       "      <th>2</th>\n",
       "      <td>Not_noted</td>\n",
       "      <td>64</td>\n",
       "    </tr>\n",
       "  </tbody>\n",
       "</table>\n",
       "</div>"
      ],
      "text/plain": [
       "            _id  count\n",
       "0  Ground Plane   2116\n",
       "1  Above Ground    843\n",
       "2     Not_noted     64"
      ]
     },
     "execution_count": 35,
     "metadata": {},
     "output_type": "execute_result"
    }
   ],
   "source": [
    "# Group squirrels by location and count, then sort in descending order\n",
    "group_query = {'$group': {'_id': \"$Location\", 'count': { '$sum': 1 }}}\n",
    "sort_values = {'$sort' : {'count' : -1}}\n",
    "pipeline = [group_query, sort_values]\n",
    "results = list(squirrels.aggregate(pipeline))\n",
    "\n",
    "# Save results to a dataframe\n",
    "location_df = pd.DataFrame(results)\n",
    "location_df"
   ]
  },
  {
   "attachments": {},
   "cell_type": "markdown",
   "metadata": {},
   "source": [
    "<h5> Squirrel behaviour when observed"
   ]
  },
  {
   "cell_type": "code",
   "execution_count": 80,
   "metadata": {},
   "outputs": [],
   "source": [
    "# Querying to get the relevant fields for analysis on what the squirrels were doing when observed\n",
    "query = {}\n",
    "fields = {'Unique_Squirrel_ID':1, 'Running':1, 'Chasing':1, 'Climbing':1, 'Eating':1, 'Foraging':1, 'Kuks':1, 'Quaas':1, 'Moans':1, 'Shift':1}\n",
    "results = list(squirrels.find(query,fields))\n",
    "\n",
    "# Saving the reuslts to a dataframe\n",
    "movement_df = pd.DataFrame(results)\n",
    "\n",
    "# Assigning the total number of squirrels to a variable to use later\n",
    "total = len(movement_df)\n"
   ]
  },
  {
   "cell_type": "code",
   "execution_count": 104,
   "metadata": {},
   "outputs": [
    {
     "name": "stdout",
     "output_type": "stream",
     "text": [
      "1431\n"
     ]
    }
   ],
   "source": [
    "# Filtering data set to squirrels who were noted as either Running or Chasing or Climbing\n",
    "physically_active = movement_df.loc[\n",
    "    (movement_df[\"Running\"] == \"TRUE\") |\n",
    "    (movement_df[\"Chasing\"] == \"TRUE\") |\n",
    "    (movement_df[\"Climbing\"] == \"TRUE\"), :]\n",
    "physically_active\n",
    "\n",
    "# Assigning the number of squirrels physically active to a variable\n",
    "physical_total = len(physically_active)\n",
    "print(physical_total)"
   ]
  },
  {
   "cell_type": "code",
   "execution_count": 105,
   "metadata": {},
   "outputs": [
    {
     "name": "stdout",
     "output_type": "stream",
     "text": [
      "1840\n"
     ]
    }
   ],
   "source": [
    "# Filtering data set to squirrels who were noted as either eathing or foraging\n",
    "eating = movement_df.loc[\n",
    "    (movement_df[\"Eating\"] == \"TRUE\") |\n",
    "    (movement_df[\"Foraging\"] == \"TRUE\"), :]\n",
    "eating\n",
    "\n",
    "# Assigning the number of squirrels eating or foraging to a variable\n",
    "eating_total = len(eating)\n",
    "print(eating_total)"
   ]
  },
  {
   "cell_type": "code",
   "execution_count": 106,
   "metadata": {},
   "outputs": [
    {
     "name": "stdout",
     "output_type": "stream",
     "text": [
      "139\n"
     ]
    }
   ],
   "source": [
    "# Filtering data set to squirrels who were noted as making a noise (a Kuk, Quaa or Moan)\n",
    "noises = movement_df.loc[\n",
    "    (movement_df[\"Kuks\"] == \"TRUE\") |\n",
    "    (movement_df[\"Quaas\"] == \"TRUE\") |\n",
    "    (movement_df[\"Moans\"] == \"TRUE\"), :]\n",
    "noises\n",
    "\n",
    "# Assigning the number of squirrels making a noise to a variable\n",
    "noises_total = len(noises)\n",
    "print(noises_total)"
   ]
  },
  {
   "cell_type": "code",
   "execution_count": 108,
   "metadata": {},
   "outputs": [],
   "source": [
    "# Calculating the percentage of squirrels enaged in different forms of movement\n",
    "physical_per = (physical_total / total) * 100\n",
    "eating_per = (eating_total / total) * 100\n",
    "noises_per = (noises_total / total) * 100"
   ]
  },
  {
   "cell_type": "code",
   "execution_count": 119,
   "metadata": {},
   "outputs": [
    {
     "data": {
      "text/html": [
       "<div>\n",
       "<style scoped>\n",
       "    .dataframe tbody tr th:only-of-type {\n",
       "        vertical-align: middle;\n",
       "    }\n",
       "\n",
       "    .dataframe tbody tr th {\n",
       "        vertical-align: top;\n",
       "    }\n",
       "\n",
       "    .dataframe thead th {\n",
       "        text-align: right;\n",
       "    }\n",
       "</style>\n",
       "<table border=\"1\" class=\"dataframe\">\n",
       "  <thead>\n",
       "    <tr style=\"text-align: right;\">\n",
       "      <th></th>\n",
       "      <th>Physically Active</th>\n",
       "      <th>Eating or Foraging</th>\n",
       "      <th>Making a noise</th>\n",
       "    </tr>\n",
       "  </thead>\n",
       "  <tbody>\n",
       "    <tr>\n",
       "      <th>0</th>\n",
       "      <td>47.337082</td>\n",
       "      <td>60.866689</td>\n",
       "      <td>4.598081</td>\n",
       "    </tr>\n",
       "  </tbody>\n",
       "</table>\n",
       "</div>"
      ],
      "text/plain": [
       "   Physically Active  Eating or Foraging  Making a noise\n",
       "0          47.337082           60.866689        4.598081"
      ]
     },
     "execution_count": 119,
     "metadata": {},
     "output_type": "execute_result"
    }
   ],
   "source": [
    "# place results into a dataframe\n",
    "movement_df = pd.DataFrame({\"Physically Active\": [physical_per],\n",
    "                                 \"Eating or Foraging\" : [eating_per],\n",
    "                                 \"Making a noise\" : [noises_per]\n",
    "})\n",
    "movement_df"
   ]
  },
  {
   "cell_type": "code",
   "execution_count": 129,
   "metadata": {},
   "outputs": [
    {
     "data": {
      "text/html": [
       "<div>\n",
       "<style scoped>\n",
       "    .dataframe tbody tr th:only-of-type {\n",
       "        vertical-align: middle;\n",
       "    }\n",
       "\n",
       "    .dataframe tbody tr th {\n",
       "        vertical-align: top;\n",
       "    }\n",
       "\n",
       "    .dataframe thead th {\n",
       "        text-align: right;\n",
       "    }\n",
       "</style>\n",
       "<table border=\"1\" class=\"dataframe\">\n",
       "  <thead>\n",
       "    <tr style=\"text-align: right;\">\n",
       "      <th></th>\n",
       "      <th>Activity %</th>\n",
       "    </tr>\n",
       "  </thead>\n",
       "  <tbody>\n",
       "    <tr>\n",
       "      <th>Physically Active</th>\n",
       "      <td>47.337082</td>\n",
       "    </tr>\n",
       "    <tr>\n",
       "      <th>Eating or Foraging</th>\n",
       "      <td>60.866689</td>\n",
       "    </tr>\n",
       "    <tr>\n",
       "      <th>Making a noise</th>\n",
       "      <td>4.598081</td>\n",
       "    </tr>\n",
       "  </tbody>\n",
       "</table>\n",
       "</div>"
      ],
      "text/plain": [
       "                    Activity %\n",
       "Physically Active    47.337082\n",
       "Eating or Foraging   60.866689\n",
       "Making a noise        4.598081"
      ]
     },
     "execution_count": 129,
     "metadata": {},
     "output_type": "execute_result"
    }
   ],
   "source": [
    "# Transpose the datframe\n",
    "movement_df_transposed = movement_df.transpose()\n",
    "\n",
    "# Update column heading from '0' to 'Activity %'\n",
    "movement_df_transposed.rename(columns = { 0:'Activity %'}, inplace = True)\n",
    "movement_df_transposed\n"
   ]
  },
  {
   "cell_type": "code",
   "execution_count": 132,
   "metadata": {},
   "outputs": [
    {
     "data": {
      "image/png": "[encoded data removed]",
      "text/plain": [
       "<Figure size 432x288 with 1 Axes>"
      ]
     },
     "metadata": {
      "needs_background": "light"
     },
     "output_type": "display_data"
    }
   ],
   "source": [
    "movement_chart = movement_df_transposed.plot(kind=\"bar\")\n"
   ]
  }
 ],
 "metadata": {
  "kernelspec": {
   "display_name": "PythonData",
   "language": "python",
   "name": "python3"
  },
  "language_info": {
   "codemirror_mode": {
    "name": "ipython",
    "version": 3
   },
   "file_extension": ".py",
   "mimetype": "text/x-python",
   "name": "python",
   "nbconvert_exporter": "python",
   "pygments_lexer": "ipython3",
   "version": "3.7.7"
  },
  "orig_nbformat": 4,
  "vscode": {
   "interpreter": {
    "hash": "36caff6c9c02ddf9c80bf3a47b52dcc003663f4f02b1c64a29eab689b8ef0ba0"
   }
  }
 },
 "nbformat": 4,
 "nbformat_minor": 2
}
